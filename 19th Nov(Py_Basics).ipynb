{
 "cells": [
  {
   "cell_type": "code",
   "execution_count": 1,
   "id": "4b08e0fe-e7da-4f6a-bb1b-cd6629716cfb",
   "metadata": {},
   "outputs": [
    {
     "data": {
      "text/plain": [
       "44"
      ]
     },
     "execution_count": 1,
     "metadata": {},
     "output_type": "execute_result"
    }
   ],
   "source": [
    "'''Declare two variables, `x` and `y`, and assign them integer values. Swap the\n",
    "values of these variables without using any temporary variable.'''\n",
    "\n",
    "x = 29    # declaring  x\n",
    "y = 44    # declaring y\n",
    "x,y = y,x # to swap the values of x and y, making a logic as x as y and y as x\n",
    "x         # calling x to get value of y as shown below\n",
    "\n",
    "\n",
    "\n"
   ]
  },
  {
   "cell_type": "code",
   "execution_count": 2,
   "id": "abc20748-527a-4c24-b3fc-9757348e0eb9",
   "metadata": {},
   "outputs": [
    {
     "data": {
      "text/plain": [
       "29"
      ]
     },
     "execution_count": 2,
     "metadata": {},
     "output_type": "execute_result"
    }
   ],
   "source": [
    "y # calling the y to get value of x as shown below\n",
    "\n",
    " "
   ]
  },
  {
   "cell_type": "code",
   "execution_count": 6,
   "id": "7b028a3b-f963-49be-9126-15917c8e2b19",
   "metadata": {},
   "outputs": [
    {
     "name": "stdin",
     "output_type": "stream",
     "text": [
      " 40\n",
      " 5\n"
     ]
    },
    {
     "name": "stdout",
     "output_type": "stream",
     "text": [
      "200\n"
     ]
    }
   ],
   "source": [
    "'''Create a program that calculates the area of a rectangle. Take the length and\n",
    "width as inputs from the user and store them in variables. Calculate and\n",
    "display the area.'''\n",
    "\n",
    "l = int(input())    #length of  rectangle \n",
    "w = int(input())   #width of rectangle\n",
    "a= (l * w)  #area of rectangle\n",
    "print(a)\n"
   ]
  },
  {
   "cell_type": "code",
   "execution_count": 9,
   "id": "947430ce-cbc6-4a67-b6c7-efc98514c77b",
   "metadata": {},
   "outputs": [
    {
     "name": "stdin",
     "output_type": "stream",
     "text": [
      " 40\n"
     ]
    },
    {
     "name": "stdout",
     "output_type": "stream",
     "text": [
      "104.0\n"
     ]
    }
   ],
   "source": [
    "'''Write a Python program that converts temperatures from Celsius to\n",
    "Fahrenheit. Take the temperature in Celsius as input, store it in a variable,\n",
    "convert it to Fahrenheit, and display the result.'''\n",
    "\n",
    "c= float(input())        #declaring temperature in celsius need a input from user\n",
    "f = ((c * 1.8) + 32)     # formula to convert temperature from Celsius to Fahrenheit\n",
    "print(f)\n",
    "\n",
    "\n",
    "\n",
    "\n"
   ]
  },
  {
   "cell_type": "code",
   "execution_count": 12,
   "id": "a97c2bb6-7230-4fe0-852c-597e265c59e3",
   "metadata": {},
   "outputs": [
    {
     "data": {
      "text/plain": [
       "8"
      ]
     },
     "execution_count": 12,
     "metadata": {},
     "output_type": "execute_result"
    }
   ],
   "source": [
    "'''Write a Python program that takes a string as input and prints the length of\n",
    "the string.'''\n",
    "\n",
    "y=\"pwskills\" #declaring string\n",
    "len(y)       #counting the length "
   ]
  },
  {
   "cell_type": "code",
   "execution_count": 31,
   "id": "07d16c8e-5627-45c0-88c8-d2a5d73448a3",
   "metadata": {},
   "outputs": [
    {
     "name": "stdin",
     "output_type": "stream",
     "text": [
      "Enter a sentence:  hi all how are you\n"
     ]
    },
    {
     "name": "stdout",
     "output_type": "stream",
     "text": [
      "Number of vowels: 7\n"
     ]
    }
   ],
   "source": [
    "'''Create a program that takes a sentence from the user and counts the number\n",
    "of vowels (a, e, i, o, u) in the string.'''\n",
    "\n",
    "g = input(\"Enter a sentence: \")  # Take input from the user\n",
    "vowels = \"aeiou\"                  # declaring vowels\n",
    "count = sum(1 for char in g if char.lower() in vowels)\n",
    "\n",
    "print(\"Number of vowels:\", count)\n",
    "\n",
    " "
   ]
  },
  {
   "cell_type": "code",
   "execution_count": 36,
   "id": "b8e8787e-cf8d-419d-8c4a-b3e12f066e2d",
   "metadata": {},
   "outputs": [
    {
     "data": {
      "text/plain": [
       "'sllikswp'"
      ]
     },
     "execution_count": 36,
     "metadata": {},
     "output_type": "execute_result"
    }
   ],
   "source": [
    "'''Given a string, reverse the order of characters using string slicing and print\n",
    "the reversed string.'''\n",
    "\n",
    "s1 = str( \"pwskills\") # declaring a string\n",
    "\n",
    "s1[7::-1]             # string slicing\n",
    "   \n",
    "\n",
    "\n"
   ]
  },
  {
   "cell_type": "code",
   "execution_count": 40,
   "id": "fd28e9b6-75b2-4b66-951b-d15f45904ae6",
   "metadata": {},
   "outputs": [
    {
     "name": "stdout",
     "output_type": "stream",
     "text": [
      "The string is a palindrome.\n"
     ]
    }
   ],
   "source": [
    "'''Write a program that takes a string as input and checks if it is a palindrome\n",
    "(reads the same forwards and backwards).'''\n",
    "\n",
    "\n",
    "my_str='madam'\n",
    "\n",
    "\n",
    "my_str = my_str.casefold() # make it suitable for caseless comparison\n",
    "\n",
    "\n",
    "rev_str = reversed(my_str) # reverse the string\n",
    "\n",
    "\n",
    "if list(my_str) == list(rev_str):    ## check if the string is equal to its reverse\n",
    "   print(\"The string is a palindrome.\")\n",
    "else:\n",
    "   print(\"The string is not a palindrome.\")\n",
    "\n",
    "\n"
   ]
  },
  {
   "cell_type": "code",
   "execution_count": 43,
   "id": "881ccab6-d760-4d6e-8331-6e636d010bbb",
   "metadata": {},
   "outputs": [
    {
     "name": "stdout",
     "output_type": "stream",
     "text": [
      "String after removing all the spaces : catdograt\n"
     ]
    }
   ],
   "source": [
    "'''Create a program that takes a string as input and removes all the spaces from\n",
    "it. Print the modified string without spaces.'''\n",
    "\n",
    "c= str(\"cat dog rat\")  # declaring string\n",
    "c = c.replace(\" \",\"\");  \n",
    "          \n",
    "print(\"String after removing all the spaces : \" + c); "
   ]
  }
 ],
 "metadata": {
  "kernelspec": {
   "display_name": "Python 3 (ipykernel)",
   "language": "python",
   "name": "python3"
  },
  "language_info": {
   "codemirror_mode": {
    "name": "ipython",
    "version": 3
   },
   "file_extension": ".py",
   "mimetype": "text/x-python",
   "name": "python",
   "nbconvert_exporter": "python",
   "pygments_lexer": "ipython3",
   "version": "3.10.8"
  }
 },
 "nbformat": 4,
 "nbformat_minor": 5
}
